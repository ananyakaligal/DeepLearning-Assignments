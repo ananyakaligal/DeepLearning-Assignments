{
  "cells": [
    {
      "cell_type": "markdown",
      "metadata": {
        "id": "view-in-github",
        "colab_type": "text"
      },
      "source": [
        "<a href=\"https://colab.research.google.com/github/ananyakaligal/DeepLearning-Assignments/blob/main/Activation_functions.ipynb\" target=\"_parent\"><img src=\"https://colab.research.google.com/assets/colab-badge.svg\" alt=\"Open In Colab\"/></a>"
      ]
    },
    {
      "cell_type": "code",
      "execution_count": 1,
      "metadata": {
        "id": "V5gXIR_tFvzD"
      },
      "outputs": [],
      "source": [
        "import math"
      ]
    },
    {
      "cell_type": "code",
      "execution_count": 2,
      "metadata": {
        "colab": {
          "base_uri": "https://localhost:8080/"
        },
        "id": "idRGsivGF3xJ",
        "outputId": "3fbe8659-ee6c-4666-d7ea-0b8a4351fadd"
      },
      "outputs": [
        {
          "output_type": "execute_result",
          "data": {
            "text/plain": [
              "0.2689414213699951"
            ]
          },
          "metadata": {},
          "execution_count": 2
        }
      ],
      "source": [
        "def basic_sigmoid(x):\n",
        "    s = 1/(1+math.exp(-x))\n",
        "    return s\n",
        "\n",
        "x=basic_sigmoid(-1)\n",
        "x"
      ]
    },
    {
      "cell_type": "code",
      "execution_count": 6,
      "metadata": {
        "id": "2_KCXgBFGDDe",
        "colab": {
          "base_uri": "https://localhost:8080/"
        },
        "outputId": "06078342-7a10-40cc-a7ab-8c4900b6293e"
      },
      "outputs": [
        {
          "output_type": "stream",
          "name": "stdout",
          "text": [
            "[ 2.71828183  7.3890561  20.08553692]\n",
            "[4 5 6]\n"
          ]
        }
      ],
      "source": [
        "#Example of vector operation\n",
        "\n",
        "import numpy as np\n",
        "\n",
        "x=np.array([1,2,3])\n",
        "print(np.exp(x))\n",
        "print(x+3)\n",
        ""
      ]
    },
    {
      "cell_type": "code",
      "source": [
        "def normaliseRow(x):\n",
        "    return x / np.linalg.norm(x, axis=1, keepdims=True)\n",
        "\n",
        "x = np.array([[0, 1000, 4], [2, 6, 4]])\n",
        "print(normaliseRow(x))"
      ],
      "metadata": {
        "colab": {
          "base_uri": "https://localhost:8080/"
        },
        "id": "qafxv8C81nUO",
        "outputId": "38bd2715-141a-4fa3-8072-618214137e02"
      },
      "execution_count": 5,
      "outputs": [
        {
          "output_type": "stream",
          "name": "stdout",
          "text": [
            "[[0.         0.999992   0.00399997]\n",
            " [0.26726124 0.80178373 0.53452248]]\n"
          ]
        }
      ]
    },
    {
      "cell_type": "code",
      "source": [
        "\n",
        "#GRADED FUNCTION: sigmoid\n",
        "\n",
        "import numpy as np\n",
        "\n",
        "def sigmoid(x):\n",
        "  s=1/(1+np.exp(-x))\n",
        "  return s\n",
        "\n",
        "x=np.array([1,2,3])\n",
        "y=sigmoid(x)\n",
        "y"
      ],
      "metadata": {
        "colab": {
          "base_uri": "https://localhost:8080/"
        },
        "id": "S3MQHfof1sDD",
        "outputId": "669b4c89-8606-433f-fa44-e907189a25cc"
      },
      "execution_count": 7,
      "outputs": [
        {
          "output_type": "execute_result",
          "data": {
            "text/plain": [
              "array([0.73105858, 0.88079708, 0.95257413])"
            ]
          },
          "metadata": {},
          "execution_count": 7
        }
      ]
    },
    {
      "cell_type": "code",
      "source": [
        "\n",
        "def sigmoid_derivative(y):\n",
        "  return y*(1-y)\n",
        "\n",
        "sigmoid_derivative(y)"
      ],
      "metadata": {
        "colab": {
          "base_uri": "https://localhost:8080/"
        },
        "id": "vVSkZ0JL18yO",
        "outputId": "f96f8cef-c617-4061-d977-75bff472bcce"
      },
      "execution_count": 8,
      "outputs": [
        {
          "output_type": "execute_result",
          "data": {
            "text/plain": [
              "array([0.19661193, 0.10499359, 0.04517666])"
            ]
          },
          "metadata": {},
          "execution_count": 8
        }
      ]
    },
    {
      "cell_type": "code",
      "source": [
        "#Graded function : image2vector\n",
        "\n",
        "def image2vector(image):\n",
        "  length,height,depth=image.shape\n",
        "  return image.reshape(length*height*depth,1)\n",
        "\n",
        "image2vector(np.array([[[0.67826139,0.29380381],[.90714982,0.52835647],[0.4515251,.45097551]],[[0.645826139,0.78380381],[.67714982,0.12835647],[0.26615251,.55017551]],[[0.5826139,0.2953380381],[.90714982,0.52835647],[0.4215251,.45017551]]]))\n",
        ""
      ],
      "metadata": {
        "colab": {
          "base_uri": "https://localhost:8080/"
        },
        "id": "xEmNGVdb1_Ea",
        "outputId": "082c7764-0418-49d1-8f21-ea3a4856970b"
      },
      "execution_count": 9,
      "outputs": [
        {
          "output_type": "execute_result",
          "data": {
            "text/plain": [
              "array([[0.67826139],\n",
              "       [0.29380381],\n",
              "       [0.90714982],\n",
              "       [0.52835647],\n",
              "       [0.4515251 ],\n",
              "       [0.45097551],\n",
              "       [0.64582614],\n",
              "       [0.78380381],\n",
              "       [0.67714982],\n",
              "       [0.12835647],\n",
              "       [0.26615251],\n",
              "       [0.55017551],\n",
              "       [0.5826139 ],\n",
              "       [0.29533804],\n",
              "       [0.90714982],\n",
              "       [0.52835647],\n",
              "       [0.4215251 ],\n",
              "       [0.45017551]])"
            ]
          },
          "metadata": {},
          "execution_count": 9
        }
      ]
    },
    {
      "cell_type": "code",
      "source": [
        "def normaliseRow(x):\n",
        "    return x / np.linalg.norm(x, axis=1, keepdims=True)\n",
        "\n",
        "x = np.array([[0, 1000, 4], [2, 6, 4]])\n",
        "print(normaliseRow(x))"
      ],
      "metadata": {
        "colab": {
          "base_uri": "https://localhost:8080/"
        },
        "id": "KPzKlMQ-2DmY",
        "outputId": "d306b3d0-b745-4a66-e93e-7ef38c8dd6d8"
      },
      "execution_count": 10,
      "outputs": [
        {
          "output_type": "stream",
          "name": "stdout",
          "text": [
            "[[0.         0.999992   0.00399997]\n",
            " [0.26726124 0.80178373 0.53452248]]\n"
          ]
        }
      ]
    },
    {
      "cell_type": "code",
      "source": [
        "def softmax(x):\n",
        "    return np.exp(x) / np.sum(x, axis=1, keepdims=True)\n",
        "\n",
        "x = np.array([[9, 2, 5, 0, 0], [7, 5, 0, 0, 0]])\n",
        "print(softmax(x))"
      ],
      "metadata": {
        "colab": {
          "base_uri": "https://localhost:8080/"
        },
        "id": "jxfJUvh82N4d",
        "outputId": "1f9bb1ea-1d30-436a-8c05-3a683f8b3020"
      },
      "execution_count": 11,
      "outputs": [
        {
          "output_type": "stream",
          "name": "stdout",
          "text": [
            "[[5.06442745e+02 4.61816006e-01 9.27582244e+00 6.25000000e-02\n",
            "  6.25000000e-02]\n",
            " [9.13860965e+01 1.23677633e+01 8.33333333e-02 8.33333333e-02\n",
            "  8.33333333e-02]]\n"
          ]
        }
      ]
    },
    {
      "cell_type": "code",
      "source": [
        "import time\n",
        "x1 = [9, 2, 5, 0, 0, 7, 5, 0, 0, 0, 9, 2, 5, 0, 0]\n",
        "x2 = [9, 2, 2, 9, 0, 9, 2, 5, 0, 0, 9, 2, 5, 0, 0]\n",
        "\n",
        "st = time.process_time()\n",
        "dot = 0\n",
        "\n",
        "for i in range(len(x1)):\n",
        "    dot += x1[i]*x2[i]\n",
        "\n",
        "sp = time.process_time()\n",
        "\n",
        "print(f\"Time took : {sp-st}\")\n",
        "\n",
        "\n",
        "st = time.process_time()\n",
        "dot = np.dot(x1, x2)\n",
        "sp = time.process_time()\n",
        "\n",
        "print(f\"Time took : {sp-st}\")\n"
      ],
      "metadata": {
        "colab": {
          "base_uri": "https://localhost:8080/"
        },
        "id": "xCA4N6pO2QPv",
        "outputId": "d1a12035-6ff6-43f5-b929-647ec3b33815"
      },
      "execution_count": 13,
      "outputs": [
        {
          "output_type": "stream",
          "name": "stdout",
          "text": [
            "Time took : 0.00011049799999973686\n",
            "Time took : 0.0002642230000002854\n"
          ]
        }
      ]
    },
    {
      "cell_type": "code",
      "source": [],
      "metadata": {
        "id": "Ekw8kM4d2TST"
      },
      "execution_count": null,
      "outputs": []
    }
  ],
  "metadata": {
    "colab": {
      "provenance": [],
      "authorship_tag": "ABX9TyPEHLR5FIDchSKPGUypen4g",
      "include_colab_link": true
    },
    "kernelspec": {
      "display_name": "Python 3",
      "name": "python3"
    },
    "language_info": {
      "name": "python"
    }
  },
  "nbformat": 4,
  "nbformat_minor": 0
}